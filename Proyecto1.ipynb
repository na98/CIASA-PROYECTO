{
 "cells": [
  {
   "cell_type": "markdown",
   "metadata": {},
   "source": [
    "# CIASA COMERCIAL# \n",
    "## Proyecto Programación lineal##\n",
    "\n",
    "hola\n",
    "-<font color=\"purple\"> *PLANIFICACIÓN DE UNA CARTERA* </font>\n",
    "\n",
    "Se hará uso de los conocimientos de la materia de simulación matemática para encontrar la perfecta planificación de una cartera de crédito.\n",
    "\n",
    "<font color=\"cian\">*Objetivo general*</font>\n",
    "\n",
    "+ \n",
    "\n",
    "<font color=\"cian\">*Objetivos específicos*</font>\n",
    "\n",
    "-"
   ]
  },
  {
   "cell_type": "markdown",
   "metadata": {},
   "source": [
    "CIASA tiene actualmente $10$ $millones$ disponibles para inversión. La meta que se ha trazado consiste en maximizar la retribución esperada durante el siguiente año. Sus cuatro posibilidades de inversión se presentan resumidas en la siguiente tabla. \n",
    "\n",
    "Posibilidad de inversión|Retribución esperada (%)|Inversión Máx (Millones de Pesos)\n",
    ":----|----\n",
    "Bonos de tesorería| 8 | 5 |\n",
    "Acciones ordinarias| 6 | 7 |\n",
    "Mercado de dinero| 12 | 2 |\n",
    "Títulos municipales| 9 | 4 |\n",
    "\n",
    "Además, la compañía ha especificado que cuando menos 30% de los fondos tendrán que colocarse en acciones ordinarias y bonos de la tesorería y que no más del 40% del dinero deberá invertirse en fondos del mercado y títulos municipales. \n",
    "\n",
    "Se invertirá la totalidad de los $10$ $millones$ actualmente a la mano.\n",
    "\n",
    "Nuestra finalidad será encontrar cuánto dinero deberá invertir CIASA en cada instrumento."
   ]
  },
  {
   "cell_type": "code",
   "execution_count": 3,
   "metadata": {},
   "outputs": [],
   "source": [
    "import matplotlib.pyplot as plt\n",
    "%matplotlib inline\n",
    "import numpy as np\n",
    "import scipy.optimize as opt "
   ]
  },
  {
   "cell_type": "code",
   "execution_count": null,
   "metadata": {},
   "outputs": [],
   "source": []
  }
 ],
 "metadata": {
  "kernelspec": {
   "display_name": "Python 3",
   "language": "python",
   "name": "python3"
  },
  "language_info": {
   "codemirror_mode": {
    "name": "ipython",
    "version": 3
   },
   "file_extension": ".py",
   "mimetype": "text/x-python",
   "name": "python",
   "nbconvert_exporter": "python",
   "pygments_lexer": "ipython3",
   "version": "3.6.5"
  }
 },
 "nbformat": 4,
 "nbformat_minor": 2
}
