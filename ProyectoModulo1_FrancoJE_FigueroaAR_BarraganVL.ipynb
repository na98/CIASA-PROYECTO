{
 "cells": [
  {
   "attachments": {},
   "cell_type": "markdown",
   "metadata": {},
   "source": [
    "# CIASA COMERCIAL# \n",
    "## Proyecto Programación lineal## \n",
    "\n",
    "-<font color=\"purple\"> *PLANIFICACIÓN DE UNA CARTERA* </font>\n",
    "\n",
    "Se hará uso de los conocimientos de la materia de simulación matemática para encontrar la perfecta planificación de una cartera de crédito.\n",
    "\n",
    "\n",
    "<font color=\"cian\">**Objetivo general**</font>\n",
    "\n",
    "\n",
    "Maximizar los ingresos de la empresa en base a las posibilidades de inversión y lo que se pueda obtener de cada una de ellas respecto a el dinero puesto en las mismas.\n",
    "\n",
    "\n",
    "+ \n",
    "\n",
    "<font color=\"cian\">**Objetivos específicos**</font>\n",
    "\n",
    "    Analizar los datos de la empresa para determinar la cantidad de inversión en cada tipo de estrategia considerando que la empresa tiene disponibles 10 millones de pesos. \n",
    "\t\n",
    "    Marcar las pautas correspondientes y las restricciones para maximizar los ingresos al final de la inversión.\n"
   ]
  },
  {
   "cell_type": "markdown",
   "metadata": {},
   "source": [
    "CIASA tiene actualmente $10$ $millones$ disponibles para inversión. La meta que se ha trazado consiste en maximizar la retribución esperada durante el siguiente año. Sus cuatro posibilidades de inversión se presentan resumidas en la siguiente tabla. \n",
    "\n",
    "Posibilidad de inversión|Retribución esperada (%)|Inversión Máx (Millones de Pesos)\n",
    ":----|----\n",
    "Bonos de tesorería| 8 | 5 |\n",
    "Acciones ordinarias| 6 | 7 |\n",
    "Mercado de dinero| 12 | 2 |\n",
    "Títulos municipales| 9 | 4 |\n",
    "\n",
    "Además, la compañía ha especificado que cuando menos 30% de los fondos tendrán que colocarse en acciones ordinarias y bonos de la tesorería y que no más del 40% del dinero deberá invertirse en fondos del mercado y títulos municipales. \n",
    "\n",
    "Se invertirá la totalidad de los $10$ $millones$ actualmente a la mano.\n",
    "\n",
    "Nuestra finalidad será encontrar cuánto dinero deberá invertir CIASA en cada instrumento."
   ]
  },
  {
   "cell_type": "markdown",
   "metadata": {},
   "source": [
    "<font color=\"blue\">**Modelo que representa el problema:**</font>"
   ]
  },
  {
   "cell_type": "markdown",
   "metadata": {},
   "source": [
    "Definición de variables:\n",
    "\n",
    " \n",
    "\n",
    "$X_1$= Cantidad de dólares en Bonos de Tesorería.\n",
    "\n",
    "$X_2$ = Cantidad de dólares en Acciones Ordinarias.\n",
    "\n",
    "$X_3$ = Cantidad de dólares en Mercado de Dinero.\n",
    "\n",
    "$X_4$ = Cantidad de dólares en Títulos Municipales."
   ]
  },
  {
   "cell_type": "markdown",
   "metadata": {},
   "source": [
    "Como se quiere minimizar el costo entonces la funcion sería:\n",
    "\n",
    "$$\\min = 0.08x_1 + 0.06x_2 + 0.12x_3 + 0.09x_4$$\n",
    "\n",
    "Además, por la tabla proporcionada arriba, las restricciones son:\n",
    "\n",
    "$x_1 + x_2 + x_3 + x_4\\leq 10,000,000$ (Inversión Máxima)\n",
    "\n",
    "$x_1 \\leq 5,000,000$ (Inversión en Bonos de Tesorería)\n",
    "\n",
    "$x_2 \\leq 7,000,000$ (Inversión en Acciones Ordinarias.)\n",
    "\n",
    "$x_3 \\leq 2,000,000$ (Inversión en Mercado de Dinero)\n",
    "\n",
    "$x_4 \\leq 4,000,000$ (Inversión en Títulos Municipales)\n",
    "\n",
    "$-x_1 - x_2 \\leq -0.30(x_1 + x_2 + x_3 + x_4)$ \n",
    "\n",
    "$-0.7x_1 - 0.7x_2 + 0.3x_3 + 0.3x_4 \\leq 0 $ (30% de Inversión)\n",
    "\n",
    "$x_3 + x_4 \\leq 0.40(x_1 + x_2 + x_3 + x_4)$ \n",
    "\n",
    "$-0.40x_1 - 0.40x_2 + 0.60x_3 + 0.60x_4 \\leq 0 $ (40% de Inversión)"
   ]
  },
  {
   "cell_type": "markdown",
   "metadata": {},
   "source": [
    "Factorizado:\n",
    "\n",
    "$-0.7x_1 - 0.7x_2 + 0.3x_3 + 0.3x_4 \\leq 0 $\n",
    "\n",
    "$-0.40x_1 - 0.40x_2 + 0.60x_3 + 0.60x_4 \\leq 0 $"
   ]
  },
  {
   "cell_type": "markdown",
   "metadata": {},
   "source": [
    "<font color=\"blue\">**Solución:**</font>"
   ]
  },
  {
   "cell_type": "code",
   "execution_count": 2,
   "metadata": {},
   "outputs": [],
   "source": [
    "import scipy.optimize as opt\n",
    "import numpy as np"
   ]
  },
  {
   "cell_type": "code",
   "execution_count": 4,
   "metadata": {},
   "outputs": [],
   "source": [
    "c = np.array ([-0.08,-0.06,-0.12,-0.09])\n",
    "A = np.array (([[1,1,1,1],\n",
    "               [1,0,0,0],\n",
    "               [0,1,0,0],\n",
    "               [0,0,1,0],\n",
    "               [0,0,0,1],\n",
    "               [-0.70,-0.70,0.30,0.30],\n",
    "               [-0.70,-0.70,0.30,0.30],\n",
    "               [-0.40,-0.40,0.60,0.60],\n",
    "               [-0.40,-0.40,0.60,0.60]]))\n",
    "b = np.array([10000000,5000000,7000000,2000000,4000000,0,0,0,0])"
   ]
  },
  {
   "cell_type": "code",
   "execution_count": 5,
   "metadata": {},
   "outputs": [
    {
     "data": {
      "text/plain": [
       "     fun: -880000.0000000002\n",
       " message: 'Optimization terminated successfully.'\n",
       "     nit: 5\n",
       "   slack: array([      0.,       0., 6000000.,       0., 2000000., 3000000.,\n",
       "       3000000.,       0.,       0.])\n",
       "  status: 0\n",
       " success: True\n",
       "       x: array([5000000., 1000000., 2000000., 2000000.])"
      ]
     },
     "execution_count": 5,
     "metadata": {},
     "output_type": "execute_result"
    }
   ],
   "source": [
    "resultado = opt.linprog(c, A_ub=A, b_ub=b)\n",
    "resultado"
   ]
  },
  {
   "cell_type": "markdown",
   "metadata": {},
   "source": [
    "<font color=\"blue\">**Conclusión:**</font>"
   ]
  },
  {
   "cell_type": "code",
   "execution_count": null,
   "metadata": {},
   "outputs": [],
   "source": []
  }
 ],
 "metadata": {
  "kernelspec": {
   "display_name": "Python 3",
   "language": "python",
   "name": "python3"
  },
  "language_info": {
   "codemirror_mode": {
    "name": "ipython",
    "version": 3
   },
   "file_extension": ".py",
   "mimetype": "text/x-python",
   "name": "python",
   "nbconvert_exporter": "python",
   "pygments_lexer": "ipython3",
   "version": "3.6.5"
  }
 },
 "nbformat": 4,
 "nbformat_minor": 2
}
